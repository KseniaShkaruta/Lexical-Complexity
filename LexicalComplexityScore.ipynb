{
 "cells": [
  {
   "cell_type": "code",
   "execution_count": null,
   "metadata": {},
   "outputs": [],
   "source": [
    "import json\n",
    "import pandas as pd\n",
    "import statistics\n",
    "import re"
   ]
  },
  {
   "cell_type": "code",
   "execution_count": null,
   "metadata": {},
   "outputs": [],
   "source": [
    "#create a dictionary of words lexical complexity score with words as keys and score as values\n",
    "lexic_dic = {}\n",
    "with open ('../lexicon.tsv') as f:\n",
    "    for line in f:\n",
    "        lexic_dic [re.split(r'\\s+',line)[0].lower()] = float(re.split(r'\\t',line)[1])"
   ]
  },
  {
   "cell_type": "code",
   "execution_count": null,
   "metadata": {},
   "outputs": [],
   "source": [
    "def lex_compl_score(transcript):\n",
    "    \"\"\"calculate lexical complexity score for each word in transcript using the dictionary and return the average. \n",
    "    Words not found in the dictionary are not included into calculations - (across 480 samples for unaltered transcripts min - 4%, max - 35%, avg - 18%)\"\"\"\n",
    "    transcript = json.loads(transcript)\n",
    "    lexic_score_list = []\n",
    "    for sublist in transcript:\n",
    "        for element in sublist['tokens']:\n",
    "            if element['value'] in lexic_dic: #lookup word in dictionary\n",
    "                lexic_score_list.append(lexic_dic[element['value']])\n",
    "    lex_compl_avg = statistics.mean(lexic_score_list)\n",
    "    return lex_compl_avg"
   ]
  },
  {
   "cell_type": "code",
   "execution_count": null,
   "metadata": {},
   "outputs": [],
   "source": [
    "df = pd.read_csv('../DB_transcripts.csv')"
   ]
  },
  {
   "cell_type": "code",
   "execution_count": null,
   "metadata": {},
   "outputs": [],
   "source": [
    "df['lexical_complexity_score'] = df.json_utterances.apply(lambda s: pd.Series(lex_compl_score(s)))"
   ]
  }
 ],
 "metadata": {
  "kernelspec": {
   "display_name": "Python 3",
   "language": "python",
   "name": "python3"
  },
  "language_info": {
   "codemirror_mode": {
    "name": "ipython",
    "version": 3
   },
   "file_extension": ".py",
   "mimetype": "text/x-python",
   "name": "python",
   "nbconvert_exporter": "python",
   "pygments_lexer": "ipython3",
   "version": "3.7.2"
  }
 },
 "nbformat": 4,
 "nbformat_minor": 2
}
